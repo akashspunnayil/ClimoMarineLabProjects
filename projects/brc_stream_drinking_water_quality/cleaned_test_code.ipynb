{
 "cells": [
  {
   "cell_type": "code",
   "execution_count": 1,
   "id": "c1a648cc-64b6-44c1-bef3-1aecb13ede06",
   "metadata": {},
   "outputs": [
    {
     "data": {
      "text/html": [
       "<div>\n",
       "<style scoped>\n",
       "    .dataframe tbody tr th:only-of-type {\n",
       "        vertical-align: middle;\n",
       "    }\n",
       "\n",
       "    .dataframe tbody tr th {\n",
       "        vertical-align: top;\n",
       "    }\n",
       "\n",
       "    .dataframe thead th {\n",
       "        text-align: right;\n",
       "    }\n",
       "</style>\n",
       "<table border=\"1\" class=\"dataframe\">\n",
       "  <thead>\n",
       "    <tr style=\"text-align: right;\">\n",
       "      <th></th>\n",
       "      <th>Questionnaire_no</th>\n",
       "      <th>District</th>\n",
       "      <th>District_code</th>\n",
       "      <th>Taluk</th>\n",
       "      <th>Taluk_code</th>\n",
       "      <th>Panchayat</th>\n",
       "      <th>Panchayat_code</th>\n",
       "      <th>Landmark_of_informant</th>\n",
       "      <th>Gender_of_informant</th>\n",
       "      <th>Date_of_Response</th>\n",
       "      <th>...</th>\n",
       "      <th>Household_Members_below_1year_to_3years_old</th>\n",
       "      <th>Household_Members_below_4years_to_8years_old</th>\n",
       "      <th>Household_Members_below_9years_to_12years_old</th>\n",
       "      <th>Household_Members_below_13years_and_above</th>\n",
       "      <th>Educational_Qualification</th>\n",
       "      <th>Occupation_of_informant</th>\n",
       "      <th>Primary_Income_Earner_Qualification</th>\n",
       "      <th>Primary_Income_Earner_Occupation</th>\n",
       "      <th>SEC</th>\n",
       "      <th>Monthly_Household_Income</th>\n",
       "    </tr>\n",
       "  </thead>\n",
       "  <tbody>\n",
       "    <tr>\n",
       "      <th>1</th>\n",
       "      <td>5</td>\n",
       "      <td>NaN</td>\n",
       "      <td>4</td>\n",
       "      <td>NaN</td>\n",
       "      <td>3.0</td>\n",
       "      <td>NaN</td>\n",
       "      <td>1.0</td>\n",
       "      <td>NaN</td>\n",
       "      <td>2</td>\n",
       "      <td>2024-11-09</td>\n",
       "      <td>...</td>\n",
       "      <td>NaN</td>\n",
       "      <td>NaN</td>\n",
       "      <td>NaN</td>\n",
       "      <td>4.0</td>\n",
       "      <td>5,6</td>\n",
       "      <td>4</td>\n",
       "      <td>4</td>\n",
       "      <td>4</td>\n",
       "      <td>A2</td>\n",
       "      <td>3</td>\n",
       "    </tr>\n",
       "    <tr>\n",
       "      <th>2</th>\n",
       "      <td>6</td>\n",
       "      <td>NaN</td>\n",
       "      <td>4</td>\n",
       "      <td>NaN</td>\n",
       "      <td>3.0</td>\n",
       "      <td>NaN</td>\n",
       "      <td>1.0</td>\n",
       "      <td>NaN</td>\n",
       "      <td>2</td>\n",
       "      <td>2024-11-09</td>\n",
       "      <td>...</td>\n",
       "      <td>NaN</td>\n",
       "      <td>NaN</td>\n",
       "      <td>NaN</td>\n",
       "      <td>4.0</td>\n",
       "      <td>1</td>\n",
       "      <td>2</td>\n",
       "      <td>1</td>\n",
       "      <td>1</td>\n",
       "      <td>E2</td>\n",
       "      <td>1</td>\n",
       "    </tr>\n",
       "    <tr>\n",
       "      <th>3</th>\n",
       "      <td>7</td>\n",
       "      <td>NaN</td>\n",
       "      <td>4</td>\n",
       "      <td>NaN</td>\n",
       "      <td>3.0</td>\n",
       "      <td>NaN</td>\n",
       "      <td>1.0</td>\n",
       "      <td>NaN</td>\n",
       "      <td>1</td>\n",
       "      <td>2024-11-10</td>\n",
       "      <td>...</td>\n",
       "      <td>NaN</td>\n",
       "      <td>NaN</td>\n",
       "      <td></td>\n",
       "      <td>1.0</td>\n",
       "      <td>4</td>\n",
       "      <td>1</td>\n",
       "      <td>4</td>\n",
       "      <td>4</td>\n",
       "      <td>A1</td>\n",
       "      <td>NaN</td>\n",
       "    </tr>\n",
       "    <tr>\n",
       "      <th>4</th>\n",
       "      <td>212</td>\n",
       "      <td>4</td>\n",
       "      <td>4</td>\n",
       "      <td>3</td>\n",
       "      <td>3.0</td>\n",
       "      <td>2</td>\n",
       "      <td>2.0</td>\n",
       "      <td>pacha chekkidikadu</td>\n",
       "      <td>1</td>\n",
       "      <td>2024-11-09</td>\n",
       "      <td>...</td>\n",
       "      <td>NaN</td>\n",
       "      <td>NaN</td>\n",
       "      <td>NaN</td>\n",
       "      <td>4.0</td>\n",
       "      <td>1</td>\n",
       "      <td>1</td>\n",
       "      <td>1</td>\n",
       "      <td>1</td>\n",
       "      <td>c</td>\n",
       "      <td>1</td>\n",
       "    </tr>\n",
       "    <tr>\n",
       "      <th>5</th>\n",
       "      <td>213</td>\n",
       "      <td>4</td>\n",
       "      <td>4</td>\n",
       "      <td>3</td>\n",
       "      <td>3.0</td>\n",
       "      <td>2</td>\n",
       "      <td>2.0</td>\n",
       "      <td>near LMHSSschool</td>\n",
       "      <td>1</td>\n",
       "      <td>2024-11-09</td>\n",
       "      <td>...</td>\n",
       "      <td>NaN</td>\n",
       "      <td>NaN</td>\n",
       "      <td>NaN</td>\n",
       "      <td>4.0</td>\n",
       "      <td>3</td>\n",
       "      <td>1</td>\n",
       "      <td>3</td>\n",
       "      <td>1</td>\n",
       "      <td>c</td>\n",
       "      <td>1</td>\n",
       "    </tr>\n",
       "    <tr>\n",
       "      <th>...</th>\n",
       "      <td>...</td>\n",
       "      <td>...</td>\n",
       "      <td>...</td>\n",
       "      <td>...</td>\n",
       "      <td>...</td>\n",
       "      <td>...</td>\n",
       "      <td>...</td>\n",
       "      <td>...</td>\n",
       "      <td>...</td>\n",
       "      <td>...</td>\n",
       "      <td>...</td>\n",
       "      <td>...</td>\n",
       "      <td>...</td>\n",
       "      <td>...</td>\n",
       "      <td>...</td>\n",
       "      <td>...</td>\n",
       "      <td>...</td>\n",
       "      <td>...</td>\n",
       "      <td>...</td>\n",
       "      <td>...</td>\n",
       "      <td>...</td>\n",
       "    </tr>\n",
       "    <tr>\n",
       "      <th>30675</th>\n",
       "      <td>NaN</td>\n",
       "      <td>NaN</td>\n",
       "      <td>NaN</td>\n",
       "      <td>NaN</td>\n",
       "      <td>NaN</td>\n",
       "      <td>NaN</td>\n",
       "      <td>NaN</td>\n",
       "      <td>NaN</td>\n",
       "      <td>NaN</td>\n",
       "      <td>NaT</td>\n",
       "      <td>...</td>\n",
       "      <td>NaN</td>\n",
       "      <td>NaN</td>\n",
       "      <td>NaN</td>\n",
       "      <td>NaN</td>\n",
       "      <td>NaN</td>\n",
       "      <td>NaN</td>\n",
       "      <td>NaN</td>\n",
       "      <td>NaN</td>\n",
       "      <td>NaN</td>\n",
       "      <td>NaN</td>\n",
       "    </tr>\n",
       "    <tr>\n",
       "      <th>30676</th>\n",
       "      <td>NaN</td>\n",
       "      <td>NaN</td>\n",
       "      <td>NaN</td>\n",
       "      <td>NaN</td>\n",
       "      <td>NaN</td>\n",
       "      <td>NaN</td>\n",
       "      <td>NaN</td>\n",
       "      <td>NaN</td>\n",
       "      <td>NaN</td>\n",
       "      <td>NaT</td>\n",
       "      <td>...</td>\n",
       "      <td>NaN</td>\n",
       "      <td>NaN</td>\n",
       "      <td>NaN</td>\n",
       "      <td>NaN</td>\n",
       "      <td>NaN</td>\n",
       "      <td>NaN</td>\n",
       "      <td>NaN</td>\n",
       "      <td>NaN</td>\n",
       "      <td>NaN</td>\n",
       "      <td>NaN</td>\n",
       "    </tr>\n",
       "    <tr>\n",
       "      <th>30677</th>\n",
       "      <td>NaN</td>\n",
       "      <td>NaN</td>\n",
       "      <td>NaN</td>\n",
       "      <td>NaN</td>\n",
       "      <td>NaN</td>\n",
       "      <td>NaN</td>\n",
       "      <td>NaN</td>\n",
       "      <td>NaN</td>\n",
       "      <td>NaN</td>\n",
       "      <td>NaT</td>\n",
       "      <td>...</td>\n",
       "      <td>NaN</td>\n",
       "      <td>NaN</td>\n",
       "      <td>NaN</td>\n",
       "      <td>NaN</td>\n",
       "      <td>NaN</td>\n",
       "      <td>NaN</td>\n",
       "      <td>NaN</td>\n",
       "      <td>NaN</td>\n",
       "      <td>NaN</td>\n",
       "      <td>NaN</td>\n",
       "    </tr>\n",
       "    <tr>\n",
       "      <th>30678</th>\n",
       "      <td>NaN</td>\n",
       "      <td>NaN</td>\n",
       "      <td>NaN</td>\n",
       "      <td>NaN</td>\n",
       "      <td>NaN</td>\n",
       "      <td>NaN</td>\n",
       "      <td>NaN</td>\n",
       "      <td>NaN</td>\n",
       "      <td>NaN</td>\n",
       "      <td>NaT</td>\n",
       "      <td>...</td>\n",
       "      <td>NaN</td>\n",
       "      <td>NaN</td>\n",
       "      <td>NaN</td>\n",
       "      <td>NaN</td>\n",
       "      <td>NaN</td>\n",
       "      <td>NaN</td>\n",
       "      <td>NaN</td>\n",
       "      <td>NaN</td>\n",
       "      <td>NaN</td>\n",
       "      <td>NaN</td>\n",
       "    </tr>\n",
       "    <tr>\n",
       "      <th>30679</th>\n",
       "      <td>NaN</td>\n",
       "      <td>NaN</td>\n",
       "      <td></td>\n",
       "      <td>NaN</td>\n",
       "      <td>NaN</td>\n",
       "      <td>NaN</td>\n",
       "      <td>NaN</td>\n",
       "      <td>NaN</td>\n",
       "      <td>NaN</td>\n",
       "      <td>NaT</td>\n",
       "      <td>...</td>\n",
       "      <td>NaN</td>\n",
       "      <td>NaN</td>\n",
       "      <td>NaN</td>\n",
       "      <td>NaN</td>\n",
       "      <td>NaN</td>\n",
       "      <td>NaN</td>\n",
       "      <td>NaN</td>\n",
       "      <td>NaN</td>\n",
       "      <td>NaN</td>\n",
       "      <td>NaN</td>\n",
       "    </tr>\n",
       "  </tbody>\n",
       "</table>\n",
       "<p>30679 rows × 54 columns</p>\n",
       "</div>"
      ],
      "text/plain": [
       "      Questionnaire_no District District_code Taluk  Taluk_code Panchayat  \\\n",
       "1                    5      NaN             4   NaN         3.0       NaN   \n",
       "2                    6      NaN             4   NaN         3.0       NaN   \n",
       "3                    7      NaN             4   NaN         3.0       NaN   \n",
       "4                  212        4             4     3         3.0         2   \n",
       "5                  213        4             4     3         3.0         2   \n",
       "...                ...      ...           ...   ...         ...       ...   \n",
       "30675              NaN      NaN           NaN   NaN         NaN       NaN   \n",
       "30676              NaN      NaN           NaN   NaN         NaN       NaN   \n",
       "30677              NaN      NaN           NaN   NaN         NaN       NaN   \n",
       "30678              NaN      NaN           NaN   NaN         NaN       NaN   \n",
       "30679              NaN      NaN                 NaN         NaN       NaN   \n",
       "\n",
       "       Panchayat_code Landmark_of_informant Gender_of_informant  \\\n",
       "1                 1.0                   NaN                   2   \n",
       "2                 1.0                   NaN                   2   \n",
       "3                 1.0                   NaN                   1   \n",
       "4                 2.0    pacha chekkidikadu                   1   \n",
       "5                 2.0      near LMHSSschool                   1   \n",
       "...               ...                   ...                 ...   \n",
       "30675             NaN                   NaN                 NaN   \n",
       "30676             NaN                   NaN                 NaN   \n",
       "30677             NaN                   NaN                 NaN   \n",
       "30678             NaN                   NaN                 NaN   \n",
       "30679             NaN                   NaN                 NaN   \n",
       "\n",
       "      Date_of_Response  ... Household_Members_below_1year_to_3years_old  \\\n",
       "1           2024-11-09  ...                                         NaN   \n",
       "2           2024-11-09  ...                                         NaN   \n",
       "3           2024-11-10  ...                                         NaN   \n",
       "4           2024-11-09  ...                                         NaN   \n",
       "5           2024-11-09  ...                                         NaN   \n",
       "...                ...  ...                                         ...   \n",
       "30675              NaT  ...                                         NaN   \n",
       "30676              NaT  ...                                         NaN   \n",
       "30677              NaT  ...                                         NaN   \n",
       "30678              NaT  ...                                         NaN   \n",
       "30679              NaT  ...                                         NaN   \n",
       "\n",
       "      Household_Members_below_4years_to_8years_old  \\\n",
       "1                                              NaN   \n",
       "2                                              NaN   \n",
       "3                                              NaN   \n",
       "4                                              NaN   \n",
       "5                                              NaN   \n",
       "...                                            ...   \n",
       "30675                                          NaN   \n",
       "30676                                          NaN   \n",
       "30677                                          NaN   \n",
       "30678                                          NaN   \n",
       "30679                                          NaN   \n",
       "\n",
       "      Household_Members_below_9years_to_12years_old  \\\n",
       "1                                               NaN   \n",
       "2                                               NaN   \n",
       "3                                                     \n",
       "4                                               NaN   \n",
       "5                                               NaN   \n",
       "...                                             ...   \n",
       "30675                                           NaN   \n",
       "30676                                           NaN   \n",
       "30677                                           NaN   \n",
       "30678                                           NaN   \n",
       "30679                                           NaN   \n",
       "\n",
       "      Household_Members_below_13years_and_above Educational_Qualification  \\\n",
       "1                                           4.0                       5,6   \n",
       "2                                           4.0                         1   \n",
       "3                                           1.0                         4   \n",
       "4                                           4.0                         1   \n",
       "5                                           4.0                         3   \n",
       "...                                         ...                       ...   \n",
       "30675                                       NaN                       NaN   \n",
       "30676                                       NaN                       NaN   \n",
       "30677                                       NaN                       NaN   \n",
       "30678                                       NaN                       NaN   \n",
       "30679                                       NaN                       NaN   \n",
       "\n",
       "      Occupation_of_informant Primary_Income_Earner_Qualification  \\\n",
       "1                           4                                   4   \n",
       "2                           2                                   1   \n",
       "3                           1                                   4   \n",
       "4                           1                                   1   \n",
       "5                           1                                   3   \n",
       "...                       ...                                 ...   \n",
       "30675                     NaN                                 NaN   \n",
       "30676                     NaN                                 NaN   \n",
       "30677                     NaN                                 NaN   \n",
       "30678                     NaN                                 NaN   \n",
       "30679                     NaN                                 NaN   \n",
       "\n",
       "      Primary_Income_Earner_Occupation  SEC  Monthly_Household_Income  \n",
       "1                                    4   A2                         3  \n",
       "2                                    1   E2                         1  \n",
       "3                                    4   A1                       NaN  \n",
       "4                                    1    c                         1  \n",
       "5                                    1    c                         1  \n",
       "...                                ...  ...                       ...  \n",
       "30675                              NaN  NaN                       NaN  \n",
       "30676                              NaN  NaN                       NaN  \n",
       "30677                              NaN  NaN                       NaN  \n",
       "30678                              NaN  NaN                       NaN  \n",
       "30679                              NaN  NaN                       NaN  \n",
       "\n",
       "[30679 rows x 54 columns]"
      ]
     },
     "execution_count": 1,
     "metadata": {},
     "output_type": "execute_result"
    }
   ],
   "source": [
    "import pandas as pd\n",
    "import warnings\n",
    "\n",
    "# Suppress warnings\n",
    "warnings.simplefilter(action='ignore', category=UserWarning)\n",
    "\n",
    "# Load the dataset\n",
    "file_path = \"Data_Entry_Template_1_dataentered_test.xlsx\"\n",
    "df = pd.read_excel(file_path, skiprows=2)  # Ensure correct skip of unwanted rows\n",
    "\n",
    "\n",
    "df = df[1:] # Remove unneccessary first row below main header row\n",
    "\n",
    "# list(df.columns)\n",
    "df"
   ]
  },
  {
   "cell_type": "code",
   "execution_count": 2,
   "id": "5031e764-a6fa-491c-ba42-8c2dede2961b",
   "metadata": {},
   "outputs": [
    {
     "name": "stdout",
     "output_type": "stream",
     "text": [
      "✅ Coded responses saved to 'Coded_Responses.xlsx'\n",
      "📊 Cleaned dataset shape: (9, 38)\n"
     ]
    }
   ],
   "source": [
    "\n",
    "# Clean column names\n",
    "df.columns = [str(col).strip().lower() for col in df.columns]\n",
    "\n",
    "# Define expected column mappings\n",
    "expected_columns = {\n",
    "    \"panchayat_code\": \"panchayat_code\",\n",
    "    \"gender_of_informant\": \"gender_of_informant\",\n",
    "    \"kwa_connection\": \"kwa_connection\",\n",
    "    \"primary_water_source\": \"primary_water_source\",\n",
    "    \"daily_water_consumption_litres\": \"daily_water_consumption_litres\",\n",
    "    \"primary_usage\": \"primary_usage\",\n",
    "    \"daily_water_usage_source\": \"daily_water_usage_source\",\n",
    "    \"agricultural_water_source\": \"agricultural_water_source\",\n",
    "    \"issues_with_water_supply\": \"issues_with_water_supply\",\n",
    "    \"frequency_of_supply_issues\": \"frequency_of_supply_issues\",\n",
    "    \"check_by_authority\": \"check_by_authority\",\n",
    "    \"ph_value_well\": \"ph_value_well\",\n",
    "    \"ph_value_pond\": \"ph_value_pond\",\n",
    "    \"ph_value_river_backwater\": \"ph_value_river_backwater\",\n",
    "    \"ph_value_borewell\": \"ph_value_borewell\",\n",
    "    \"ph_value_pipe_water\": \"ph_value_pipe_water\",\n",
    "    \"satisfaction_with_water_taste\": \"satisfaction_with_water_taste\",\n",
    "    \"satisfaction_with_water_smell\": \"satisfaction_with_water_smell\",\n",
    "    \"noticeable_contamination\": \"noticeable_contamination\",\n",
    "    \"septic_tank_or_wastewater_presence_nearby_primary_water_source\": \"septic_tank_or_wastewater_presence_nearby_primary_water_source\",\n",
    "    \"pipeline_water_chlorinated_belief\": \"pipeline_water_chlorinated_belief\",\n",
    "    \"frequency_of_cleaning_water_tank\": \"frequency_of_cleaning_water_tank\",\n",
    "    \"water_purifying_techniques\": \"water_purifying_techniques\",\n",
    "    \"types_of_water_purifications\": \"types_of_water_purifications\",\n",
    "    \"ever_noticed_broken_pipelines_in_house_or_public_places\": \"ever_noticed_broken_pipelines_in_house_or_public_places\",\n",
    "    \"waterborne_diseases_last_year\": \"waterborne_diseases_last_year\",\n",
    "    \"confidence_in_safety\": \"confidence_in_safety\",\n",
    "    \"noticed_any_changes_in_health_after_using_current_drinking_water\": \"noticed_any_changes_in_health_after_using_current_drinking_water\",\n",
    "    \"willingness_to_pay_for_better_drinking_water_services\": \"willingness_to_pay_for_better_drinking_water_services\",\n",
    "    \"household_members_below_1year_old\": \"household_members_below_1year_old\",\n",
    "    \"household_members_below_1year_to_3years_old\": \"household_members_below_1year_to_3years_old\",\n",
    "    \"household_members_below_4years_to_8years_old\": \"household_members_below_4years_to_8years_old\",\n",
    "    \"household_members_below_9years_to_12years_old\": \"household_members_below_9years_to_12years_old\",\n",
    "    \"household_members_below_13years_and_above\": \"household_members_below_13years_and_above\",\n",
    "    \"educational_qualification\": \"educational_qualification\",\n",
    "    \"primary_income_earner_qualification\": \"primary_income_earner_qualification\",\n",
    "    \"sec\": \"sec\",\n",
    "    \"monthly_household_income\": \"monthly_household_income\"\n",
    "}\n",
    "\n",
    "# Check for missing columns\n",
    "missing_cols = set(expected_columns.values()) - set(df.columns)\n",
    "if missing_cols:\n",
    "    print(f\"⚠️ Warning: The following expected columns are missing: {missing_cols}\")\n",
    "\n",
    "# Create a dictionary to map actual column names to expected names\n",
    "column_mapping = {col: expected_columns[col] for col in df.columns if col in expected_columns.values()}\n",
    "\n",
    "# Rename columns based on mapping\n",
    "df.rename(columns=column_mapping, inplace=True)\n",
    "\n",
    "# Select only the required columns\n",
    "df_selected = df[list(column_mapping.values())].copy()\n",
    "\n",
    "# Remove rows where all columns are empty\n",
    "df_selected = df_selected.dropna(how='all').reset_index(drop=True)\n",
    "\n",
    "# # Remove columns with only NaN values\n",
    "# df_selected = df_selected.dropna(axis=1, how='all')\n",
    "\n",
    "# Define coded responses\n",
    "coded_responses = {\n",
    "    \"panchayat_code\": {\"THAKAZHY\": \"1\", \"EDATHUA\": \"2\", \"THALAVADY\": \"3\"},\n",
    "    \"gender_of_informant\": {\"MALE\": \"1\", \"FEMALE\": \"2\"},\n",
    "    \"kwa_connection\": {\"YES\": \"1\", \"NO\": \"2\"},\n",
    "    \"primary_water_source\": {\n",
    "        \"PIPE CONNECTION\": \"1\", \"WELL\": \"2\", \"POND\": \"3\", \"RIVER/BACKWATER\": \"4\",\n",
    "        \"BORE WELL\": \"5\", \"OTHERS\": \"6\"\n",
    "    },\n",
    "}\n",
    "\n",
    "# Apply coding transformation (convert to uppercase before mapping)\n",
    "for col, mapping in coded_responses.items():\n",
    "    if col in df_selected.columns:\n",
    "        df_selected[col] = df_selected[col].astype(str).str.upper().map(mapping)\n",
    "\n",
    "# Save coded responses mapping\n",
    "coded_responses_df = pd.DataFrame.from_dict(coded_responses, orient='index')\n",
    "coded_responses_df.to_excel(\"Coded_Responses.xlsx\", index=True)\n",
    "\n",
    "# Print confirmation\n",
    "print(f\"✅ Coded responses saved to 'Coded_Responses.xlsx'\")\n",
    "print(f\"📊 Cleaned dataset shape: {df_selected.shape}\")\n"
   ]
  },
  {
   "cell_type": "code",
   "execution_count": 3,
   "id": "6dce291c-7ba3-47ea-9b60-141479fc8c39",
   "metadata": {},
   "outputs": [],
   "source": [
    "# df_selected\n",
    "# list(df_selected.columns)"
   ]
  },
  {
   "cell_type": "code",
   "execution_count": 4,
   "id": "5a48c692-967d-4a09-9994-27cade48811e",
   "metadata": {},
   "outputs": [],
   "source": [
    "# import pandas as pd\n",
    "\n",
    "# # Function to expand multi-response columns into separate binary columns (One-Hot Encoding)\n",
    "# def expand_into_columns(df, columns_to_expand):\n",
    "#     df_expanded = df.copy()\n",
    "\n",
    "#     for col in columns_to_expand:\n",
    "#         # Convert to string, handle NaNs, and split by commas safely\n",
    "#         df_expanded[col] = df_expanded[col].astype(str).fillna(\"\").apply(lambda x: x.split(\",\") if x else [])\n",
    "\n",
    "#         # Strip spaces from each value\n",
    "#         df_expanded[col] = df_expanded[col].apply(lambda x: [i.strip() for i in x if i.strip()])\n",
    "\n",
    "#         # Identify unique values in the column\n",
    "#         unique_values = set(val for sublist in df_expanded[col] if isinstance(sublist, list) for val in sublist)\n",
    "\n",
    "#         # Create new binary columns\n",
    "#         for value in unique_values:\n",
    "#             new_col_name = f\"{col}_{value.replace(' ', '_')}\"  # Replace spaces with underscores\n",
    "#             df_expanded[new_col_name] = df_expanded[col].apply(lambda x: 1 if value in x else 0)\n",
    "\n",
    "#         # Drop the original column after expansion\n",
    "#         df_expanded.drop(columns=[col], inplace=True)\n",
    "\n",
    "#     return df_expanded\n",
    "\n",
    "# # Identify multi-response columns (excluding `panchayat_code`)\n",
    "# multi_response_columns = [col for col in df_selected.columns \n",
    "#                           if col != \"panchayat_code\" and df_selected[col].astype(str).fillna(\"\").str.contains(',').any()]\n",
    "\n",
    "# # Expand dataset into separate columns (One-Hot Encoding)\n",
    "# df_expanded = expand_into_columns(df_selected, multi_response_columns)\n",
    "\n",
    "# # Ensure `panchayat_code` remains unchanged\n",
    "# df_expanded[\"panchayat_code\"] = df_selected[\"panchayat_code\"]\n",
    "\n",
    "# # **Check: Print column names after expansion**\n",
    "# print(\"✅ Columns after expansion:\", df_expanded.columns)\n",
    "# print(\"📊 Shape of data after expansion:\", df_expanded.shape)\n"
   ]
  },
  {
   "cell_type": "code",
   "execution_count": 5,
   "id": "909335af-e5c8-4949-97eb-b5e69ef48763",
   "metadata": {},
   "outputs": [],
   "source": [
    "# df_expanded.to_csv('df_expanded.csv')"
   ]
  },
  {
   "cell_type": "code",
   "execution_count": 6,
   "id": "562794d9-0363-44da-80f4-ea09ce2a21bc",
   "metadata": {},
   "outputs": [],
   "source": [
    "# import pandas as pd\n",
    "\n",
    "# # Function to expand multi-response columns into separate binary columns (One-Hot Encoding)\n",
    "# def expand_into_columns(df, columns_to_expand):\n",
    "#     df_expanded = df.copy()\n",
    "\n",
    "#     for col in columns_to_expand:\n",
    "#         # Convert to string, handle NaNs, and split by commas safely\n",
    "#         df_expanded[col] = df_expanded[col].astype(str).fillna(\"\").apply(lambda x: x.split(\",\") if x else [])\n",
    "\n",
    "#         # Strip spaces from each value\n",
    "#         df_expanded[col] = df_expanded[col].apply(lambda x: [i.strip() for i in x if i.strip()])\n",
    "\n",
    "#         # Identify unique values in the column\n",
    "#         unique_values = set(val for sublist in df_expanded[col] if isinstance(sublist, list) for val in sublist)\n",
    "\n",
    "#         # Create new binary columns\n",
    "#         for value in unique_values:\n",
    "#             new_col_name = f\"{col}_{value.replace(' ', '_')}\"  # Replace spaces with underscores\n",
    "#             df_expanded[new_col_name] = df_expanded[col].apply(lambda x: 1 if value in x else 0)\n",
    "\n",
    "#         # Drop the original column after expansion\n",
    "#         df_expanded.drop(columns=[col], inplace=True)\n",
    "\n",
    "#     return df_expanded\n",
    "\n",
    "# # Define columns that contain numerical values\n",
    "# numerical_columns = [\n",
    "#     'ph_value_well', 'ph_value_pond', 'ph_value_river_backwater', 'ph_value_borewell', 'ph_value_pipe_water',\n",
    "#     'household_members_below_1year_old', 'household_members_below_1year_to_3years_old',\n",
    "#     'household_members_below_4years_to_8years_old', 'household_members_below_9years_to_12years_old',\n",
    "#     'household_members_below_13years_and_above'\n",
    "# ]\n",
    "\n",
    "# # Identify multi-response columns, excluding numerical columns and `panchayat_code`\n",
    "# multi_response_columns = [\n",
    "#     col for col in df_selected.columns\n",
    "#     if col not in numerical_columns and col != \"panchayat_code\" and df_selected[col].astype(str).fillna(\"\").str.contains(',').any()\n",
    "# ]\n",
    "\n",
    "# # Expand dataset into separate columns (One-Hot Encoding)\n",
    "# df_expanded = expand_into_columns(df_selected, multi_response_columns)\n",
    "\n",
    "# # Ensure `panchayat_code` remains unchanged\n",
    "# df_expanded[\"panchayat_code\"] = df_selected[\"panchayat_code\"]\n",
    "\n",
    "# # Ensure numerical columns remain unchanged\n",
    "# for col in numerical_columns:\n",
    "#     if col in df_selected.columns:\n",
    "#         df_expanded[col] = df_selected[col]\n",
    "\n",
    "# # **Create lists for categorical and numerical columns**\n",
    "# categorical_columns = [col for col in df_expanded.columns if col not in numerical_columns]\n",
    "# numerical_columns = [col for col in df_expanded.columns if col in numerical_columns]\n",
    "\n",
    "# # Print summary\n",
    "# print('')\n",
    "# print(\"✅ Categorical Columns:\", categorical_columns)\n",
    "# print('')\n",
    "# print(\"✅ Numerical Columns:\", numerical_columns)\n",
    "# print('')\n",
    "# print(\"📊 Final Dataset Shape:\", df_expanded.shape)\n",
    "# print('')\n",
    "\n",
    "# # Display categorized DataFrames separately\n",
    "# df_categorical = df_expanded[categorical_columns]\n",
    "# df_numerical = df_expanded[numerical_columns]\n",
    "\n",
    "# print('')\n",
    "# print('Shape of df_categorical', df_categorical.shape)\n",
    "# print('Shape of df_numerical', df_numerical.shape)\n",
    "# print('')\n",
    "\n",
    "# # # Save DataFrames as CSV files for download\n",
    "# # categorical_file = \"./categorical_data.csv\"\n",
    "# # numerical_file = \"./numerical_data.csv\"\n",
    "\n",
    "# # df_categorical.to_csv(categorical_file, index=False)\n",
    "# # df_numerical.to_csv(numerical_file, index=False)\n",
    "\n",
    "# # # Provide file links for download\n",
    "# # categorical_file, numerical_file\n"
   ]
  },
  {
   "cell_type": "code",
   "execution_count": 7,
   "id": "7ed1e9de-66a3-4ab3-ab31-082542e51460",
   "metadata": {
    "scrolled": true
   },
   "outputs": [],
   "source": [
    "# import pandas as pd\n",
    "# import matplotlib.pyplot as plt\n",
    "\n",
    "# # Function to expand multi-response columns into separate binary columns (One-Hot Encoding)\n",
    "# def expand_into_columns(df, columns_to_expand):\n",
    "#     df_expanded = df.copy()\n",
    "\n",
    "#     for col in columns_to_expand:\n",
    "#         # Convert to string, handle NaNs, and split by commas\n",
    "#         df_expanded[col] = df_expanded[col].astype(str).fillna(\"\").str.replace(\" \", \"\").str.split(\",\")\n",
    "\n",
    "#         unique_values = set(val for sublist in df_expanded[col] for val in sublist if val)\n",
    "\n",
    "#         for value in unique_values:\n",
    "#             new_col_name = f\"{col}_{value}\"\n",
    "#             df_expanded[new_col_name] = df_expanded[col].apply(lambda x: 1 if str(value) in x else 0)\n",
    "\n",
    "#         df_expanded.drop(columns=[col], inplace=True)\n",
    "\n",
    "#     return df_expanded\n",
    "\n",
    "# # Ensure df_selected is defined\n",
    "# if 'df_selected' in locals():\n",
    "#     # Identify multi-response columns (excluding `panchayat_code`)\n",
    "#     multi_response_columns = [\n",
    "#         col for col in df_selected.columns if col != \"panchayat_code\" and df_selected[col].astype(str).str.contains(',').any()\n",
    "#     ]\n",
    "\n",
    "#     # Expand dataset into separate columns (One-Hot Encoding)\n",
    "#     df_expanded = expand_into_columns(df_selected, multi_response_columns)\n",
    "\n",
    "#     # Ensure `panchayat_code` remains unchanged\n",
    "#     df_expanded[\"panchayat_code\"] = df_selected[\"panchayat_code\"]\n",
    "\n",
    "#     # Convert categorical variables to numeric format before aggregation (excluding `panchayat_code`)\n",
    "#     for col in df_expanded.columns:\n",
    "#         if col in coded_responses.keys() and col != \"panchayat_code\":\n",
    "#             df_expanded[col] = pd.to_numeric(df_expanded[col], errors='coerce')\n",
    "\n",
    "#     # **Update categorical_vars to include expanded columns**\n",
    "#     categorical_vars = [\n",
    "#         col for col in df_expanded.columns if col.startswith(tuple(coded_responses.keys())) and col != \"panchayat_code\"\n",
    "#     ]\n",
    "\n",
    "#     # Grouping data Panchayat-wise\n",
    "#     panchayat_groups = df_expanded.groupby(\"panchayat_code\")\n",
    "\n",
    "#     # Compute frequency & percentage distributions for categorical variables\n",
    "#     categorical_summary = {var: panchayat_groups[var].sum() for var in categorical_vars}\n",
    "\n",
    "#     # Convert categorical summary to DataFrame\n",
    "#     cat_summary_df = pd.DataFrame(categorical_summary)\n",
    "\n",
    "#     # Ensure `panchayat_code` is preserved and not counted\n",
    "#     cat_summary_df.index.name = \"panchayat_code\"\n",
    "#     cat_summary_df = cat_summary_df.reset_index()\n",
    "\n",
    "#     # Compute mean, median, standard deviation, and variance for numerical variables\n",
    "#     numerical_vars = [\n",
    "#         col for col in df_expanded.columns if col not in coded_responses.keys() and col != \"panchayat_code\"\n",
    "#     ]\n",
    "\n",
    "#     if numerical_vars:\n",
    "#         numerical_summary = panchayat_groups[numerical_vars].agg(['mean', 'median', 'std', 'var'])\n",
    "#         numerical_summary.columns = [\"_\".join(map(str, col)) if isinstance(col, tuple) else col for col in numerical_summary.columns]\n",
    "#         numerical_summary = numerical_summary.reset_index()\n",
    "#     else:\n",
    "#         numerical_summary = pd.DataFrame()\n",
    "\n",
    "#     # Save results to an Excel file\n",
    "#     output_file = \"./Panchayat_Descriptive_Statistics_Expanded.xlsx\"\n",
    "#     with pd.ExcelWriter(output_file) as writer:\n",
    "#         cat_summary_df.to_excel(writer, sheet_name=\"Categorical Summary\", index=False)\n",
    "#         numerical_summary.to_excel(writer, sheet_name=\"Numerical Summary\", index=False)\n",
    "\n",
    "#     # Provide the file for download\n",
    "#     output_file\n",
    "# else:\n",
    "#     print(\"⚠️ Error: `df_selected` is not defined. Ensure the dataset is loaded before running this script.\")\n"
   ]
  },
  {
   "cell_type": "code",
   "execution_count": 8,
   "id": "c00f63b6-1bf4-459f-bf92-cdd3c04aecda",
   "metadata": {},
   "outputs": [],
   "source": [
    "# import matplotlib.pyplot as plt\n",
    "\n",
    "# # Function to generate stacked bar charts for categorical data\n",
    "# def plot_panchayat_wise_distributions(df, categorical_columns):\n",
    "#     for col in categorical_columns:\n",
    "#         if col not in df.columns:\n",
    "#             print(f\"⚠️ Skipping {col}: Column not found in DataFrame.\")\n",
    "#             continue\n",
    "\n",
    "#         plt.figure(figsize=(12, 6))\n",
    "\n",
    "#         # Count occurrences of each category within each Panchayat\n",
    "#         category_summary = df.groupby([\"panchayat_code\", col]).size().unstack(fill_value=0)\n",
    "\n",
    "#         # Ensure numeric data for plotting\n",
    "#         category_summary = category_summary.astype(int)\n",
    "\n",
    "#         # Check if the DataFrame is empty or has only NaN values\n",
    "#         if category_summary.empty:\n",
    "#             print(f\"⚠️ Skipping {col}: No valid data to plot.\")\n",
    "#             continue\n",
    "\n",
    "#         # Plot stacked bar chart with Panchayat codes as x-axis labels\n",
    "#         category_summary.plot(kind=\"bar\", stacked=True, figsize=(12, 6), colormap=\"coolwarm\")\n",
    "\n",
    "#         # Customize plot appearance\n",
    "#         plt.title(f\"Distribution of {col} Across Panchayats\", fontsize=14)\n",
    "#         plt.xlabel(\"Panchayat Code\", fontsize=12)\n",
    "#         plt.ylabel(\"Count\", fontsize=12)\n",
    "#         plt.xticks(rotation=0)\n",
    "#         plt.legend(title=col, bbox_to_anchor=(1.05, 1), loc='upper left')\n",
    "#         plt.grid(axis='y', linestyle='--', alpha=0.7)\n",
    "\n",
    "#         # Show the plot\n",
    "#         plt.show()\n",
    "\n",
    "# # Ensure df_categorical is defined before plotting\n",
    "# if 'df_categorical' in locals():\n",
    "#     plot_panchayat_wise_distributions(df_categorical, df_categorical.columns)\n",
    "# else:\n",
    "#     print(\"⚠️ Error: `df_categorical` is not defined. Ensure categorical data is processed before running this script.\")\n"
   ]
  },
  {
   "cell_type": "code",
   "execution_count": null,
   "id": "2d48ba0c-0552-4e18-9c17-464a7d792797",
   "metadata": {},
   "outputs": [],
   "source": []
  },
  {
   "cell_type": "code",
   "execution_count": 14,
   "id": "20f3d588-e64f-4a55-8e75-9de963604a3a",
   "metadata": {},
   "outputs": [
    {
     "name": "stdout",
     "output_type": "stream",
     "text": [
      "✅ Filtered Categorical Columns: ['gender_of_informant', 'kwa_connection', 'primary_water_source', 'daily_water_consumption_litres', 'agricultural_water_source', 'issues_with_water_supply', 'frequency_of_supply_issues', 'check_by_authority', 'satisfaction_with_water_taste', 'satisfaction_with_water_smell', 'noticeable_contamination', 'septic_tank_or_wastewater_presence_nearby_primary_water_source', 'pipeline_water_chlorinated_belief', 'water_purifying_techniques', 'ever_noticed_broken_pipelines_in_house_or_public_places', 'waterborne_diseases_last_year', 'confidence_in_safety', 'noticed_any_changes_in_health_after_using_current_drinking_water', 'willingness_to_pay_for_better_drinking_water_services', 'primary_income_earner_qualification', 'sec', 'monthly_household_income', 'primary_usage_6', 'primary_usage_1', 'primary_usage_3', 'primary_usage_7', 'primary_usage_5', 'primary_usage_2', 'primary_usage_4', 'daily_water_usage_source_6', 'daily_water_usage_source_1', 'daily_water_usage_source_3', 'daily_water_usage_source_2', 'daily_water_usage_source_4', 'frequency_of_cleaning_water_tank_1', 'frequency_of_cleaning_water_tank_3', 'frequency_of_cleaning_water_tank_2', 'frequency_of_cleaning_water_tank_4', 'frequency_of_cleaning_water_tank_nan', 'types_of_water_purifications_nan', 'types_of_water_purifications_1', 'types_of_water_purifications_3', 'types_of_water_purifications_2', 'educational_qualification_6', 'educational_qualification_1', 'educational_qualification_3', 'educational_qualification_5', 'educational_qualification_2', 'educational_qualification_4']\n",
      "✅ Filtered Numerical Columns: ['ph_value_well', 'ph_value_pond', 'ph_value_river_backwater', 'ph_value_borewell', 'ph_value_pipe_water', 'household_members_below_1year_old', 'household_members_below_1year_to_3years_old', 'household_members_below_4years_to_8years_old', 'household_members_below_9years_to_12years_old', 'household_members_below_13years_and_above']\n",
      "📊 Final Dataset Shape: (9, 60)\n",
      "Shape of df_categorical: (9, 50)\n",
      "Shape of df_numerical: (9, 10)\n",
      "✅ Data saved to ./Panchayat_Descriptive_Statistics_Expanded.xlsx\n",
      "⚠️ Skipping gender_of_informant: No non-zero values to plot.\n",
      "⚠️ Skipping kwa_connection: No non-zero values to plot.\n",
      "⚠️ Skipping primary_water_source: No non-zero values to plot.\n",
      "⚠️ Skipping daily_water_consumption_litres: No valid data for visualization.\n",
      "⚠️ Skipping agricultural_water_source: No valid data for visualization.\n",
      "⚠️ Skipping issues_with_water_supply: No valid data for visualization.\n",
      "⚠️ Skipping frequency_of_supply_issues: No valid data for visualization.\n",
      "⚠️ Skipping check_by_authority: No valid data for visualization.\n",
      "⚠️ Skipping satisfaction_with_water_taste: No valid data for visualization.\n",
      "⚠️ Skipping satisfaction_with_water_smell: No valid data for visualization.\n",
      "⚠️ Skipping noticeable_contamination: No valid data for visualization.\n",
      "⚠️ Skipping septic_tank_or_wastewater_presence_nearby_primary_water_source: No valid data for visualization.\n",
      "⚠️ Skipping pipeline_water_chlorinated_belief: No valid data for visualization.\n",
      "⚠️ Skipping water_purifying_techniques: No valid data for visualization.\n",
      "⚠️ Skipping ever_noticed_broken_pipelines_in_house_or_public_places: No valid data for visualization.\n",
      "⚠️ Skipping waterborne_diseases_last_year: No valid data for visualization.\n",
      "⚠️ Skipping confidence_in_safety: No valid data for visualization.\n",
      "⚠️ Skipping noticed_any_changes_in_health_after_using_current_drinking_water: No valid data for visualization.\n",
      "⚠️ Skipping willingness_to_pay_for_better_drinking_water_services: No valid data for visualization.\n",
      "⚠️ Skipping primary_income_earner_qualification: No valid data for visualization.\n",
      "⚠️ Skipping sec: No non-zero values to plot.\n",
      "⚠️ Skipping monthly_household_income: No valid data for visualization.\n",
      "⚠️ Skipping primary_usage_6: No valid data for visualization.\n",
      "⚠️ Skipping primary_usage_1: No valid data for visualization.\n",
      "⚠️ Skipping primary_usage_3: No valid data for visualization.\n",
      "⚠️ Skipping primary_usage_7: No valid data for visualization.\n",
      "⚠️ Skipping primary_usage_5: No valid data for visualization.\n",
      "⚠️ Skipping primary_usage_2: No valid data for visualization.\n",
      "⚠️ Skipping primary_usage_4: No valid data for visualization.\n",
      "⚠️ Skipping daily_water_usage_source_6: No valid data for visualization.\n",
      "⚠️ Skipping daily_water_usage_source_1: No valid data for visualization.\n",
      "⚠️ Skipping daily_water_usage_source_3: No valid data for visualization.\n",
      "⚠️ Skipping daily_water_usage_source_2: No valid data for visualization.\n",
      "⚠️ Skipping daily_water_usage_source_4: No valid data for visualization.\n",
      "⚠️ Skipping frequency_of_cleaning_water_tank_1: No valid data for visualization.\n",
      "⚠️ Skipping frequency_of_cleaning_water_tank_3: No valid data for visualization.\n",
      "⚠️ Skipping frequency_of_cleaning_water_tank_2: No valid data for visualization.\n",
      "⚠️ Skipping frequency_of_cleaning_water_tank_4: No valid data for visualization.\n",
      "⚠️ Skipping frequency_of_cleaning_water_tank_nan: No valid data for visualization.\n",
      "⚠️ Skipping types_of_water_purifications_nan: No valid data for visualization.\n",
      "⚠️ Skipping types_of_water_purifications_1: No valid data for visualization.\n",
      "⚠️ Skipping types_of_water_purifications_3: No valid data for visualization.\n",
      "⚠️ Skipping types_of_water_purifications_2: No valid data for visualization.\n",
      "⚠️ Skipping educational_qualification_6: No valid data for visualization.\n",
      "⚠️ Skipping educational_qualification_1: No valid data for visualization.\n",
      "⚠️ Skipping educational_qualification_3: No valid data for visualization.\n",
      "⚠️ Skipping educational_qualification_5: No valid data for visualization.\n",
      "⚠️ Skipping educational_qualification_2: No valid data for visualization.\n",
      "⚠️ Skipping educational_qualification_4: No valid data for visualization.\n",
      "⚠️ Skipping panchayat_code: No non-zero values to plot.\n"
     ]
    },
    {
     "name": "stderr",
     "output_type": "stream",
     "text": [
      "/tmp/ipykernel_11860/3332964753.py:99: RuntimeWarning: More than 20 figures have been opened. Figures created through the pyplot interface (`matplotlib.pyplot.figure`) are retained until explicitly closed and may consume too much memory. (To control this warning, see the rcParam `figure.max_open_warning`). Consider using `matplotlib.pyplot.close()`.\n",
      "  plt.figure(figsize=(12, 6))\n"
     ]
    },
    {
     "data": {
      "text/plain": [
       "<Figure size 1200x600 with 0 Axes>"
      ]
     },
     "metadata": {},
     "output_type": "display_data"
    },
    {
     "data": {
      "text/plain": [
       "<Figure size 1200x600 with 0 Axes>"
      ]
     },
     "metadata": {},
     "output_type": "display_data"
    },
    {
     "data": {
      "text/plain": [
       "<Figure size 1200x600 with 0 Axes>"
      ]
     },
     "metadata": {},
     "output_type": "display_data"
    },
    {
     "data": {
      "text/plain": [
       "<Figure size 1200x600 with 0 Axes>"
      ]
     },
     "metadata": {},
     "output_type": "display_data"
    },
    {
     "data": {
      "text/plain": [
       "<Figure size 1200x600 with 0 Axes>"
      ]
     },
     "metadata": {},
     "output_type": "display_data"
    },
    {
     "data": {
      "text/plain": [
       "<Figure size 1200x600 with 0 Axes>"
      ]
     },
     "metadata": {},
     "output_type": "display_data"
    },
    {
     "data": {
      "text/plain": [
       "<Figure size 1200x600 with 0 Axes>"
      ]
     },
     "metadata": {},
     "output_type": "display_data"
    },
    {
     "data": {
      "text/plain": [
       "<Figure size 1200x600 with 0 Axes>"
      ]
     },
     "metadata": {},
     "output_type": "display_data"
    },
    {
     "data": {
      "text/plain": [
       "<Figure size 1200x600 with 0 Axes>"
      ]
     },
     "metadata": {},
     "output_type": "display_data"
    },
    {
     "data": {
      "text/plain": [
       "<Figure size 1200x600 with 0 Axes>"
      ]
     },
     "metadata": {},
     "output_type": "display_data"
    },
    {
     "data": {
      "text/plain": [
       "<Figure size 1200x600 with 0 Axes>"
      ]
     },
     "metadata": {},
     "output_type": "display_data"
    },
    {
     "data": {
      "text/plain": [
       "<Figure size 1200x600 with 0 Axes>"
      ]
     },
     "metadata": {},
     "output_type": "display_data"
    },
    {
     "data": {
      "text/plain": [
       "<Figure size 1200x600 with 0 Axes>"
      ]
     },
     "metadata": {},
     "output_type": "display_data"
    },
    {
     "data": {
      "text/plain": [
       "<Figure size 1200x600 with 0 Axes>"
      ]
     },
     "metadata": {},
     "output_type": "display_data"
    },
    {
     "data": {
      "text/plain": [
       "<Figure size 1200x600 with 0 Axes>"
      ]
     },
     "metadata": {},
     "output_type": "display_data"
    },
    {
     "data": {
      "text/plain": [
       "<Figure size 1200x600 with 0 Axes>"
      ]
     },
     "metadata": {},
     "output_type": "display_data"
    },
    {
     "data": {
      "text/plain": [
       "<Figure size 1200x600 with 0 Axes>"
      ]
     },
     "metadata": {},
     "output_type": "display_data"
    },
    {
     "data": {
      "text/plain": [
       "<Figure size 1200x600 with 0 Axes>"
      ]
     },
     "metadata": {},
     "output_type": "display_data"
    },
    {
     "data": {
      "text/plain": [
       "<Figure size 1200x600 with 0 Axes>"
      ]
     },
     "metadata": {},
     "output_type": "display_data"
    },
    {
     "data": {
      "text/plain": [
       "<Figure size 1200x600 with 0 Axes>"
      ]
     },
     "metadata": {},
     "output_type": "display_data"
    },
    {
     "data": {
      "text/plain": [
       "<Figure size 1200x600 with 0 Axes>"
      ]
     },
     "metadata": {},
     "output_type": "display_data"
    },
    {
     "data": {
      "text/plain": [
       "<Figure size 1200x600 with 0 Axes>"
      ]
     },
     "metadata": {},
     "output_type": "display_data"
    },
    {
     "data": {
      "text/plain": [
       "<Figure size 1200x600 with 0 Axes>"
      ]
     },
     "metadata": {},
     "output_type": "display_data"
    },
    {
     "data": {
      "text/plain": [
       "<Figure size 1200x600 with 0 Axes>"
      ]
     },
     "metadata": {},
     "output_type": "display_data"
    },
    {
     "data": {
      "text/plain": [
       "<Figure size 1200x600 with 0 Axes>"
      ]
     },
     "metadata": {},
     "output_type": "display_data"
    },
    {
     "data": {
      "text/plain": [
       "<Figure size 1200x600 with 0 Axes>"
      ]
     },
     "metadata": {},
     "output_type": "display_data"
    },
    {
     "data": {
      "text/plain": [
       "<Figure size 1200x600 with 0 Axes>"
      ]
     },
     "metadata": {},
     "output_type": "display_data"
    },
    {
     "data": {
      "text/plain": [
       "<Figure size 1200x600 with 0 Axes>"
      ]
     },
     "metadata": {},
     "output_type": "display_data"
    },
    {
     "data": {
      "text/plain": [
       "<Figure size 1200x600 with 0 Axes>"
      ]
     },
     "metadata": {},
     "output_type": "display_data"
    },
    {
     "data": {
      "text/plain": [
       "<Figure size 1200x600 with 0 Axes>"
      ]
     },
     "metadata": {},
     "output_type": "display_data"
    },
    {
     "data": {
      "text/plain": [
       "<Figure size 1200x600 with 0 Axes>"
      ]
     },
     "metadata": {},
     "output_type": "display_data"
    },
    {
     "data": {
      "text/plain": [
       "<Figure size 1200x600 with 0 Axes>"
      ]
     },
     "metadata": {},
     "output_type": "display_data"
    },
    {
     "data": {
      "text/plain": [
       "<Figure size 1200x600 with 0 Axes>"
      ]
     },
     "metadata": {},
     "output_type": "display_data"
    },
    {
     "data": {
      "text/plain": [
       "<Figure size 1200x600 with 0 Axes>"
      ]
     },
     "metadata": {},
     "output_type": "display_data"
    },
    {
     "data": {
      "text/plain": [
       "<Figure size 1200x600 with 0 Axes>"
      ]
     },
     "metadata": {},
     "output_type": "display_data"
    },
    {
     "data": {
      "text/plain": [
       "<Figure size 1200x600 with 0 Axes>"
      ]
     },
     "metadata": {},
     "output_type": "display_data"
    },
    {
     "data": {
      "text/plain": [
       "<Figure size 1200x600 with 0 Axes>"
      ]
     },
     "metadata": {},
     "output_type": "display_data"
    },
    {
     "data": {
      "text/plain": [
       "<Figure size 1200x600 with 0 Axes>"
      ]
     },
     "metadata": {},
     "output_type": "display_data"
    },
    {
     "data": {
      "text/plain": [
       "<Figure size 1200x600 with 0 Axes>"
      ]
     },
     "metadata": {},
     "output_type": "display_data"
    },
    {
     "data": {
      "text/plain": [
       "<Figure size 1200x600 with 0 Axes>"
      ]
     },
     "metadata": {},
     "output_type": "display_data"
    },
    {
     "data": {
      "text/plain": [
       "<Figure size 1200x600 with 0 Axes>"
      ]
     },
     "metadata": {},
     "output_type": "display_data"
    },
    {
     "data": {
      "text/plain": [
       "<Figure size 1200x600 with 0 Axes>"
      ]
     },
     "metadata": {},
     "output_type": "display_data"
    },
    {
     "data": {
      "text/plain": [
       "<Figure size 1200x600 with 0 Axes>"
      ]
     },
     "metadata": {},
     "output_type": "display_data"
    },
    {
     "data": {
      "text/plain": [
       "<Figure size 1200x600 with 0 Axes>"
      ]
     },
     "metadata": {},
     "output_type": "display_data"
    },
    {
     "data": {
      "text/plain": [
       "<Figure size 1200x600 with 0 Axes>"
      ]
     },
     "metadata": {},
     "output_type": "display_data"
    }
   ],
   "source": [
    "import pandas as pd\n",
    "import matplotlib.pyplot as plt\n",
    "\n",
    "# Ensure df_selected is defined before proceeding\n",
    "if 'df_selected' not in locals():\n",
    "    raise ValueError(\"⚠️ Error: `df_selected` is not defined. Ensure the dataset is loaded before running this script.\")\n",
    "\n",
    "# Define numerical columns explicitly (as per user-provided list)\n",
    "numerical_columns = [\n",
    "    'ph_value_well', 'ph_value_pond', 'ph_value_river_backwater', 'ph_value_borewell', 'ph_value_pipe_water',\n",
    "    'household_members_below_1year_old', 'household_members_below_1year_to_3years_old',\n",
    "    'household_members_below_4years_to_8years_old', 'household_members_below_9years_to_12years_old',\n",
    "    'household_members_below_13years_and_above'\n",
    "]\n",
    "\n",
    "# Function to apply coded response mappings\n",
    "def apply_coded_mappings(df, mappings):\n",
    "    df_mapped = df.copy()\n",
    "    \n",
    "    for col, mapping in mappings.items():\n",
    "        if col in df_mapped.columns:\n",
    "            df_mapped[col] = df_mapped[col].astype(str).map(mapping).fillna(df_mapped[col])  # Preserve original values if not found\n",
    "    \n",
    "    return df_mapped\n",
    "\n",
    "# Apply coded response mappings to categorical columns\n",
    "df_mapped = apply_coded_mappings(df_selected, coded_responses)\n",
    "\n",
    "# Identify multi-response columns (excluding numerical columns and `panchayat_code`)\n",
    "multi_response_columns = [\n",
    "    col for col in df_selected.columns\n",
    "    if col not in numerical_columns and col != \"panchayat_code\" and df_selected[col].astype(str).fillna(\"\").str.contains(',').any()\n",
    "]\n",
    "\n",
    "# Function to expand multi-response categorical columns into separate binary columns (One-Hot Encoding)\n",
    "def expand_into_columns(df, columns_to_expand):\n",
    "    df_expanded = df.copy()\n",
    "\n",
    "    for col in columns_to_expand:\n",
    "        df_expanded[col] = df_expanded[col].astype(str).fillna(\"\").apply(lambda x: x.split(\",\") if x else [])\n",
    "        df_expanded[col] = df_expanded[col].apply(lambda x: [i.strip() for i in x if i.strip()])\n",
    "        \n",
    "        unique_values = set(val for sublist in df_expanded[col] for val in sublist)\n",
    "\n",
    "        for value in unique_values:\n",
    "            new_col_name = f\"{col}_{value.replace(' ', '_')}\"\n",
    "            df_expanded[new_col_name] = df_expanded[col].apply(lambda x: 1 if value in x else 0).astype(int)\n",
    "\n",
    "        df_expanded.drop(columns=[col], inplace=True)\n",
    "\n",
    "    return df_expanded\n",
    "\n",
    "# Expand dataset into separate columns (One-Hot Encoding)\n",
    "df_expanded = expand_into_columns(df_mapped, multi_response_columns)\n",
    "\n",
    "# Ensure `panchayat_code` remains unchanged\n",
    "df_expanded[\"panchayat_code\"] = df_selected[\"panchayat_code\"]\n",
    "\n",
    "# Convert One-Hot Encoded columns to integer\n",
    "for col in df_expanded.columns:\n",
    "    if col not in [\"panchayat_code\"]:  # Exclude non-numeric columns\n",
    "        df_expanded[col] = pd.to_numeric(df_expanded[col], errors='coerce')\n",
    "\n",
    "# **Categorize variables correctly**\n",
    "categorical_columns = [\n",
    "    col for col in df_expanded.columns if col not in numerical_columns and col != \"panchayat_code\"\n",
    "]\n",
    "\n",
    "# **Fix: Ensure `panchayat_code` is included in categorical data**\n",
    "df_categorical = df_expanded[categorical_columns + [\"panchayat_code\"]]\n",
    "df_numerical = df_expanded[numerical_columns]\n",
    "\n",
    "print(\"✅ Filtered Categorical Columns:\", categorical_columns)\n",
    "print(\"✅ Filtered Numerical Columns:\", numerical_columns)\n",
    "print(\"📊 Final Dataset Shape:\", df_expanded.shape)\n",
    "print(\"Shape of df_categorical:\", df_categorical.shape)\n",
    "print(\"Shape of df_numerical:\", df_numerical.shape)\n",
    "\n",
    "# Save results to an Excel file\n",
    "output_file = \"./Panchayat_Descriptive_Statistics_Expanded.xlsx\"\n",
    "with pd.ExcelWriter(output_file) as writer:\n",
    "    df_categorical.to_excel(writer, sheet_name=\"Categorical Data\", index=False)\n",
    "    df_numerical.to_excel(writer, sheet_name=\"Numerical Data\", index=False)\n",
    "\n",
    "print(f\"✅ Data saved to {output_file}\")\n",
    "\n",
    "# Function to generate stacked bar charts for categorical data\n",
    "def plot_panchayat_wise_distributions(df, categorical_columns):\n",
    "    for col in categorical_columns:\n",
    "        if col not in df.columns:\n",
    "            print(f\"⚠️ Skipping {col}: Column not found in DataFrame.\")\n",
    "            continue\n",
    "\n",
    "        # Remove columns with only zero values\n",
    "        if df[col].sum() == 0:\n",
    "            print(f\"⚠️ Skipping {col}: No non-zero values to plot.\")\n",
    "            continue\n",
    "\n",
    "        plt.figure(figsize=(12, 6))\n",
    "\n",
    "        category_summary = df.groupby([\"panchayat_code\"])[col].sum()\n",
    "        \n",
    "        # Ensure non-empty categorical distribution\n",
    "        if category_summary.empty or (category_summary == 0).all():\n",
    "            print(f\"⚠️ Skipping {col}: No valid data for visualization.\")\n",
    "            continue\n",
    "\n",
    "        category_summary.plot(kind=\"bar\", stacked=True, figsize=(12, 6), colormap=\"coolwarm\")\n",
    "\n",
    "        plt.title(f\"Distribution of {col} Across Panchayats\", fontsize=14)\n",
    "        plt.xlabel(\"Panchayat Code\", fontsize=12)\n",
    "        plt.ylabel(\"Count\", fontsize=12)\n",
    "        plt.xticks(rotation=0)\n",
    "        plt.legend(title=col, bbox_to_anchor=(1.05, 1), loc='upper left')\n",
    "        plt.grid(axis='y', linestyle='--', alpha=0.7)\n",
    "\n",
    "        plt.show()\n",
    "\n",
    "# Ensure df_categorical is defined before plotting\n",
    "if 'df_categorical' in locals():\n",
    "    plot_panchayat_wise_distributions(df_categorical, df_categorical.columns)\n",
    "else:\n",
    "    print(\"⚠️ Error: `df_categorical` is not defined.\")\n"
   ]
  },
  {
   "cell_type": "code",
   "execution_count": null,
   "id": "a70334c2-72c5-4707-bc3e-f4c05b81e131",
   "metadata": {},
   "outputs": [],
   "source": []
  }
 ],
 "metadata": {
  "kernelspec": {
   "display_name": "Python 3 (ipykernel)",
   "language": "python",
   "name": "python3"
  },
  "language_info": {
   "codemirror_mode": {
    "name": "ipython",
    "version": 3
   },
   "file_extension": ".py",
   "mimetype": "text/x-python",
   "name": "python",
   "nbconvert_exporter": "python",
   "pygments_lexer": "ipython3",
   "version": "3.8.10"
  }
 },
 "nbformat": 4,
 "nbformat_minor": 5
}
